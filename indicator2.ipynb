{
 "cells": [
  {
   "cell_type": "code",
   "execution_count": 2,
   "metadata": {},
   "outputs": [],
   "source": [
    "import vectorbt as vbt\n",
    "import numpy as np\n",
    "import pandas as pd"
   ]
  },
  {
   "cell_type": "code",
   "execution_count": 30,
   "metadata": {},
   "outputs": [
    {
     "name": "stderr",
     "output_type": "stream",
     "text": [
      "/home/pratyush/.local/lib/python3.8/site-packages/vectorbt/data/base.py:527: UserWarning:\n",
      "\n",
      "Symbols have mismatching index. Dropping missing data points.\n",
      "\n"
     ]
    }
   ],
   "source": [
    "eth_usd = vbt.YFData.download(\n",
    "    ['ETH-USD', 'BTC-USD'],\n",
    "    missing_index='drop',\n",
    "    interval='1m'\n",
    ").get('Close')"
   ]
  },
  {
   "cell_type": "code",
   "execution_count": 31,
   "metadata": {},
   "outputs": [],
   "source": [
    "def indicator(_closePrice, rsiWindow = 14, movingAverageWindow = 50, entry = 30, exit = 70):\n",
    "    rsi = vbt.RSI.run(_closePrice, window= rsiWindow).rsi\n",
    "    ma = vbt.MA.run(_closePrice, movingAverageWindow).ma\n",
    "    trend = np.where(rsi > exit, -1, 0)\n",
    "    trend = np.where( np.array(ma > _closePrice) & np.array(rsi < entry) , 1, trend )\n",
    "    return trend"
   ]
  },
  {
   "cell_type": "code",
   "execution_count": 32,
   "metadata": {},
   "outputs": [],
   "source": [
    "ind = vbt.IndicatorFactory(\n",
    "    class_name=\"Combination\",\n",
    "    short_name=\"comb\",\n",
    "    input_names=['_closePrice'],\n",
    "    param_names=['rsiWindow', 'movingAverageWindow', 'entry', 'exit'],\n",
    "    output_names=['value']\n",
    ").from_apply_func(indicator, rsiWindow = 14, movingAverageWindow = 50, entry=30, exit=70)"
   ]
  },
  {
   "cell_type": "code",
   "execution_count": 33,
   "metadata": {},
   "outputs": [],
   "source": [
    "res = ind.run(_closePrice=eth_usd, \n",
    "            #   rsiWindow=np.arange(10, 40, step=3, dtype=int), \n",
    "            #   movingAverageWindow = np.arange(20, 200, step=15,dtype=int),\n",
    "              entry = np.arange(10, 40, step=4, dtype=int),\n",
    "              exit = np.arange(60, 85, step=4, dtype=int),\n",
    "              param_product = True \n",
    "              )"
   ]
  },
  {
   "cell_type": "code",
   "execution_count": 34,
   "metadata": {},
   "outputs": [],
   "source": [
    "exits = res.value == 1\n",
    "entries = res.value == -1\n",
    "pf = vbt.Portfolio.from_signals(eth_usd, entries=entries, exits=exits)"
   ]
  },
  {
   "cell_type": "code",
   "execution_count": 35,
   "metadata": {},
   "outputs": [
    {
     "data": {
      "text/plain": [
       "0.045890081397262604"
      ]
     },
     "execution_count": 35,
     "metadata": {},
     "output_type": "execute_result"
    }
   ],
   "source": [
    "\n",
    "returns = pf.total_return()\n",
    "returns.max()"
   ]
  },
  {
   "cell_type": "code",
   "execution_count": 36,
   "metadata": {},
   "outputs": [
    {
     "data": {
      "application/vnd.jupyter.widget-view+json": {
       "model_id": "5cf0e732532b4e55a32ef12429fc4f38",
       "version_major": 2,
       "version_minor": 0
      },
      "text/plain": [
       "FigureWidget({\n",
       "    'data': [{'colorscale': [[0.0, '#0d0887'], [0.1111111111111111, '#46039f'],\n",
       "                             [0.2222222222222222, '#7201a8'], [0.3333333333333333,\n",
       "                             '#9c179e'], [0.4444444444444444, '#bd3786'],\n",
       "                             [0.5555555555555556, '#d8576b'], [0.6666666666666666,\n",
       "                             '#ed7953'], [0.7777777777777778, '#fb9f3a'],\n",
       "                             [0.8888888888888888, '#fdca26'], [1.0, '#f0f921']],\n",
       "              'hoverongaps': False,\n",
       "              'hovertemplate': 'comb_entry: %{x}<br>comb_exit: %{y}<br>value: %{z}<extra></extra>',\n",
       "              'name': 'BTC-USD',\n",
       "              'type': 'heatmap',\n",
       "              'uid': 'a9ae5708-337a-4570-82e3-9fbbbb4365d4',\n",
       "              'visible': True,\n",
       "              'x': array([10, 14, 18, 22, 26, 30, 34, 38]),\n",
       "              'y': array([60, 64, 68, 72, 76, 80, 84]),\n",
       "              'z': array([[-0.03228037, -0.03865866, -0.02879285, -0.00502016, -0.00010009,\n",
       "                            0.01643203,  0.0149953 ,  0.026269  ],\n",
       "                          [-0.03595134, -0.04536286, -0.03533243, -0.00045438,  0.00198122,\n",
       "                            0.01745246,  0.01176657,  0.01417683],\n",
       "                          [-0.04106077, -0.0548036 , -0.0372025 ,  0.00382272,  0.00138279,\n",
       "                            0.01450883,  0.01273102,  0.01758261],\n",
       "                          [-0.04642308, -0.06489937, -0.04378726, -0.00938214, -0.01187042,\n",
       "                            0.00119317,  0.00198868,  0.00623813],\n",
       "                          [-0.04486938, -0.04018528, -0.03599153, -0.00481725, -0.01365888,\n",
       "                            0.00126099, -0.00240354,  0.0002434 ],\n",
       "                          [-0.03653944, -0.0155282 , -0.02739945, -0.02077939, -0.02985767,\n",
       "                           -0.01526877, -0.01335463, -0.01515002],\n",
       "                          [-0.05405212, -0.02230804, -0.01749624, -0.00806143, -0.01078516,\n",
       "                           -0.00205898,  0.00288569, -0.00402177]])},\n",
       "             {'colorscale': [[0.0, '#0d0887'], [0.1111111111111111, '#46039f'],\n",
       "                             [0.2222222222222222, '#7201a8'], [0.3333333333333333,\n",
       "                             '#9c179e'], [0.4444444444444444, '#bd3786'],\n",
       "                             [0.5555555555555556, '#d8576b'], [0.6666666666666666,\n",
       "                             '#ed7953'], [0.7777777777777778, '#fb9f3a'],\n",
       "                             [0.8888888888888888, '#fdca26'], [1.0, '#f0f921']],\n",
       "              'hoverongaps': False,\n",
       "              'hovertemplate': 'comb_entry: %{x}<br>comb_exit: %{y}<br>value: %{z}<extra></extra>',\n",
       "              'name': 'ETH-USD',\n",
       "              'type': 'heatmap',\n",
       "              'uid': '668d93b3-93f7-4315-a058-cfb6b73f9e91',\n",
       "              'visible': False,\n",
       "              'x': array([10, 14, 18, 22, 26, 30, 34, 38]),\n",
       "              'y': array([60, 64, 68, 72, 76, 80, 84]),\n",
       "              'z': array([[-0.06161914, -0.06607011, -0.0571748 , -0.03407293,  0.00323815,\n",
       "                            0.01041942,  0.0078512 ,  0.01648676],\n",
       "                          [-0.02732326, -0.02789656, -0.03207863, -0.00832987,  0.02302586,\n",
       "                            0.02405092,  0.01865752,  0.02258058],\n",
       "                          [-0.0084693 , -0.01122398, -0.01880524, -0.00596875,  0.02380378,\n",
       "                            0.02314301,  0.01854328,  0.02194931],\n",
       "                          [-0.00795879, -0.01350837, -0.02693269, -0.01150447,  0.0259001 ,\n",
       "                            0.01200859,  0.00767995,  0.00658657],\n",
       "                          [ 0.02161253,  0.01471344,  0.00888262,  0.02619749,  0.04589008,\n",
       "                            0.02028585,  0.01672786,  0.00542046],\n",
       "                          [ 0.03400371,  0.00815525, -0.00643398,  0.01252451,  0.02165015,\n",
       "                            0.00512505,  0.00630096, -0.00430714],\n",
       "                          [ 0.03699453, -0.00118757, -0.01208829,  0.00338334,  0.01313771,\n",
       "                            0.00215476,  0.00537128, -0.00609229]])}],\n",
       "    'layout': {'height': 539,\n",
       "               'legend': {'orientation': 'h',\n",
       "                          'traceorder': 'normal',\n",
       "                          'x': 1,\n",
       "                          'xanchor': 'right',\n",
       "                          'y': 1.02,\n",
       "                          'yanchor': 'bottom'},\n",
       "               'margin': {'b': 30, 'l': 30, 'r': 30, 't': 30},\n",
       "               'sliders': [{'active': 0,\n",
       "                            'currentvalue': {'prefix': 'symbol: '},\n",
       "                            'pad': {'t': 50},\n",
       "                            'steps': [{'args': [{'visible': [True, False]}, {}], 'label': 'BTC-USD', 'method': 'update'},\n",
       "                                      {'args': [{'visible': [False, True]}, {}],\n",
       "                                       'label': 'ETH-USD',\n",
       "                                       'method': 'update'}]}],\n",
       "               'template': '...',\n",
       "               'width': 622,\n",
       "               'xaxis': {'title': {'text': 'comb_entry'}},\n",
       "               'yaxis': {'title': {'text': 'comb_exit'}}}\n",
       "})"
      ]
     },
     "execution_count": 36,
     "metadata": {},
     "output_type": "execute_result"
    }
   ],
   "source": [
    "fig = returns.vbt.heatmap(x_level='comb_entry', y_level='comb_exit', slider_level='symbol')\n",
    "fig"
   ]
  },
  {
   "cell_type": "code",
   "execution_count": null,
   "metadata": {},
   "outputs": [],
   "source": []
  }
 ],
 "metadata": {
  "kernelspec": {
   "display_name": "Python 3",
   "language": "python",
   "name": "python3"
  },
  "language_info": {
   "codemirror_mode": {
    "name": "ipython",
    "version": 3
   },
   "file_extension": ".py",
   "mimetype": "text/x-python",
   "name": "python",
   "nbconvert_exporter": "python",
   "pygments_lexer": "ipython3",
   "version": "3.8.18"
  }
 },
 "nbformat": 4,
 "nbformat_minor": 2
}
